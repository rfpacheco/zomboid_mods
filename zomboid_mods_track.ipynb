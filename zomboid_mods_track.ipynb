{
 "cells": [
  {
   "metadata": {
    "ExecuteTime": {
     "end_time": "2025-08-26T17:59:44.973446Z",
     "start_time": "2025-08-26T17:59:44.969418Z"
    }
   },
   "cell_type": "code",
   "source": "from typing import Dict",
   "id": "df7971568717cb2a",
   "outputs": [],
   "execution_count": 1
  },
  {
   "cell_type": "code",
   "id": "initial_id",
   "metadata": {
    "collapsed": true,
    "ExecuteTime": {
     "end_time": "2025-08-26T17:59:45.056760Z",
     "start_time": "2025-08-26T17:59:45.050061Z"
    }
   },
   "source": [
    "# Project Zomboid Mods Configuration\n",
    "# Mod names (semicolon-separated string from Steam Workshop)\n",
    "mods_zomboid: Dict[str, int] = {\n",
    "    'BetterSortCC': 2313387159,\n",
    "    'TrueActions4Talking': 2912999938,\n",
    "    'TrueActionsDancing': 2648779556,\n",
    "    'TMC_TrueActions': 2487022075,\n",
    "    'ClothingUimod': 3400277077,\n",
    "    'REORDER_THE_HOTBAR': 2903771337,\n",
    "    'qdx_item_condition': 2852309899,\n",
    "    'FactionMap': 2877685881,\n",
    "    'ReducedWoodWeight2x41': 2377867605,\n",
    "    'P4HasBeenRead': 2544353492,\n",
    "    'AutoCook': 2640569820,\n",
    "    'HandmadeWeapons': 2776318649,\n",
    "    'AutoLoot': 3392699932,\n",
    "    'equipwhilerunning': 3492077449,\n",
    "    'OpenAllContainers': 3465040406,\n",
    "    'BB_CommonSense': 2875848298,\n",
    "    '92amgeneralM998': 2642541073,\n",
    "    'GetUpQuick': 3444943638,\n",
    "    'RemoveAllItems': 3413255058,\n",
    "    'MapLegendUI': 2710167561,\n",
    "    'CombatText': 2286124931,\n",
    "    'TheStar': 2619072426,\n",
    "    'BB_Foraging': 3056538624,\n",
    "    'BuildingMenu': 3067798182,\n",
    "    'Blacksmith41': 1997530421,\n",
    "    'ExtraMapSymbols': 2701170568,\n",
    "    'manageContainers': 2650547917,\n",
    "    'TVRadio_ReInvented': 3420581050,\n",
    "    'ProximityInventory': 2847184718,\n",
    "    'RainCleansBlood': 2956146279,\n",
    "    'RepairAnyClothes': 2142622992,\n",
    "    'NoLighterNeeded': 2714198296,\n",
    "    'BION_PlainMoodles': 3008416736,\n",
    "    'grasslands': 3351207258,\n",
    "    'SlowConsumption': 2864231031,\n",
    "    'ItemTweakerAPI42': 2890558515,\n",
    "    'FuelAPI': 2688538916,\n",
    "    'waterPipes': 2464581798,\n",
    "    'VehicleRecycling': 2289429759,\n",
    "    'errorMagnifier': 2896041179,\n",
    "    # Aesthetics\n",
    "    'Authentic Z - Current': 2335368829,\n",
    "    # Hardmode/Scary\n",
    "    'BLTRandomZombies': 2818577583,\n",
    "    'Lingering Voices': 2874678809,\n",
    "    # Vehicles\n",
    "    'tsarslib': 2392709985,\n",
    "    'amclub': 2778576730,\n",
    "    'ATA_VanDeRumba': 2811232708,\n",
    "    'ATA_Bus': 2592358528,\n",
    "    'ATA_Jeep': 2636100523,\n",
    "    'ATAMustangClassic': 2681635926,\n",
    "    'ATA_Petyarbuilt': 2782258356,\n",
    "    'VanillaVehiclesAnimated': 3281755175\n",
    "}"
   ],
   "outputs": [],
   "execution_count": 2
  },
  {
   "metadata": {
    "ExecuteTime": {
     "end_time": "2025-08-26T17:59:49.609553Z",
     "start_time": "2025-08-26T17:59:49.604352Z"
    }
   },
   "cell_type": "code",
   "source": [
    "# Generate semicolon-separated list of mod keys\n",
    "';'.join(mods_zomboid.keys())"
   ],
   "id": "dbf2567ed3ecd340",
   "outputs": [
    {
     "data": {
      "text/plain": [
       "'BetterSortCC;TrueActions4Talking;TrueActionsDancing;TMC_TrueActions;ClothingUimod;REORDER_THE_HOTBAR;qdx_item_condition;FactionMap;ReducedWoodWeight2x41;P4HasBeenRead;AutoCook;HandmadeWeapons;AutoLoot;equipwhilerunning;OpenAllContainers;BB_CommonSense;92amgeneralM998;GetUpQuick;RemoveAllItems;MapLegendUI;CombatText;TheStar;BB_Foraging;BuildingMenu;Blacksmith41;ExtraMapSymbols;manageContainers;TVRadio_ReInvented;ProximityInventory;RainCleansBlood;RepairAnyClothes;NoLighterNeeded;BION_PlainMoodles;grasslands;SlowConsumption;ItemTweakerAPI42;FuelAPI;waterPipes;VehicleRecycling;errorMagnifier;Authentic Z - Current;BLTRandomZombies;Lingering Voices;tsarslib;amclub;ATA_VanDeRumba;ATA_Bus;ATA_Jeep;ATAMustangClassic;ATA_Petyarbuilt;VanillaVehiclesAnimated'"
      ]
     },
     "execution_count": 5,
     "metadata": {},
     "output_type": "execute_result"
    }
   ],
   "execution_count": 5
  },
  {
   "metadata": {
    "ExecuteTime": {
     "end_time": "2025-08-26T18:08:02.367229Z",
     "start_time": "2025-08-26T18:08:02.361487Z"
    }
   },
   "cell_type": "code",
   "source": [
    "# Generate semicolon-separated list of mod values\n",
    "';'.join(map(str, mods_zomboid.values()))"
   ],
   "id": "cf2e8951df7fd919",
   "outputs": [
    {
     "data": {
      "text/plain": [
       "'2313387159;2912999938;2648779556;2487022075;3400277077;2903771337;2852309899;2877685881;2377867605;2544353492;2640569820;2776318649;3392699932;3492077449;3465040406;2875848298;2642541073;3444943638;3413255058;2710167561;2286124931;2619072426;3056538624;3067798182;1997530421;2701170568;2650547917;3420581050;2847184718;2956146279;2142622992;2714198296;3008416736;3351207258;2864231031;2890558515;2688538916;2464581798;2289429759;2896041179;2335368829;2818577583;2874678809;2392709985;2778576730;2811232708;2592358528;2636100523;2681635926;2782258356;3281755175'"
      ]
     },
     "execution_count": 7,
     "metadata": {},
     "output_type": "execute_result"
    }
   ],
   "execution_count": 7
  }
 ],
 "metadata": {
  "kernelspec": {
   "display_name": "Python 3",
   "language": "python",
   "name": "python3"
  },
  "language_info": {
   "codemirror_mode": {
    "name": "ipython",
    "version": 2
   },
   "file_extension": ".py",
   "mimetype": "text/x-python",
   "name": "python",
   "nbconvert_exporter": "python",
   "pygments_lexer": "ipython2",
   "version": "2.7.6"
  }
 },
 "nbformat": 4,
 "nbformat_minor": 5
}
